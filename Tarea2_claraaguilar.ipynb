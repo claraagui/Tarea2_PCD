{
 "cells": [
  {
   "cell_type": "markdown",
   "id": "6a4b19fd",
   "metadata": {},
   "source": [
    "## TAREA 2\n",
    "\n",
    "### Clara Paola Aguilar Casillas\n",
    "### 751097"
   ]
  },
  {
   "cell_type": "markdown",
   "id": "32198ebb",
   "metadata": {},
   "source": [
    "- ¿Qué son las MLOps?\n",
    "liga: https://aws.amazon.com/es/what-is/mlops/\n",
    "\n",
    "Las operaciones de machine learning (MLOps) son un conjunto de prácticas que automatizan y simplifican los flujos de trabajo y los despliegues de machine learning (ML). MLOps es una cultura y una práctica de ML que une el desarrollo de aplicaciones de ML (Dev) a la implementación y las operaciones (Ops) de sistemas de ML.\n",
    "MLOps es fundamental para administrar de forma sistemática y simultánea el lanzamiento de nuevos modelos de ML con cambios en el código de la aplicación y los datos. Esto es especialmente importante porque el desarrollo de ML requiere experimentación constante, control de versiones de datos y modelos, y gestión compleja de canalizaciones de entrenamiento.\n",
    "\n",
    " Principios clave de las MLOps\n",
    "\n",
    " 1. Control de versiones\n",
    "Este proceso implica el seguimiento de los cambios en los activos de machine learning para que pueda reproducir los resultados y volver a usar versiones anteriores si es necesario.\n",
    "\n",
    " 2. Automatización\n",
    "Automatice diversas etapas de la canalización de machine learning para garantizar la repetibilidad, la coherencia y la escalabilidad, incluyendo desde la ingesta de datos hasta la implementación.\n",
    "\n",
    " 3. Actividades continuas\n",
    "Incluye cuatro aspectos principales:\n",
    "- **Integración continua**: validación del código, datos y modelos\n",
    "- **Entrega continua**: implementación automática de modelos\n",
    "- **Entrenamiento continuo**: reentrenamiento automático de modelos\n",
    "- **Monitoreo continuo**: seguimiento de datos y modelos\n",
    "\n",
    " 4. Gobernanza de modelos\n",
    "La gobernanza implica administrar todos los aspectos relacionados con los sistemas de ML para lograr una mayor eficiencia, incluyendo colaboración, documentación, seguridad y procesos de validación.\n",
    "\n",
    " Beneficios principales\n",
    "\n",
    "1. **Reducción del plazo de comercialización**: La automatización a la hora de crear e implementar modelos se traduce en una comercialización más rápida con costos operativos más bajos\n",
    "\n",
    "2. **Productividad mejorada**: Estandarización de entornos y procesos reutilizables\n",
    "\n",
    "3. **Eficiencia en la implementación**: Mejor monitoreo, resolución de problemas y gestión de versiones\n",
    "\n",
    " Niveles de implementación\n",
    "\n",
    " Nivel 0: Manual\n",
    "- Proceso dirigido por científicos de datos\n",
    "- Cada paso es manual\n",
    "- Separación entre desarrollo e implementación\n",
    "\n",
    " Nivel 1: Automatización de canalizaciones\n",
    "- El nivel 1 de MLOps tiene como objetivo entrenar el modelo de forma continua mediante la automatización de la canalización de ML\n",
    "- Entrenamiento continuo con datos nuevos\n",
    "- Almacén de características centralizado\n",
    "\n",
    " Nivel 2: MLOps completo\n",
    "- El nivel 2 de MLOps es para las organizaciones que desean experimentar más y crear con frecuencia modelos nuevos que requieran entrenamiento continuo\n",
    "- Orquestador de canalizaciones\n",
    "- Registro de modelos para múltiples modelos\n",
    "\n",
    " MLOps vs DevOps\n",
    "\n",
    "Mientras que las DevOps tienen como objetivo cerrar la brecha entre los equipos de desarrollo y operaciones, las MLOps, por otro lado, son un conjunto de prácticas recomendadas que se establecieron específicamente para proyectos de machine learning.\n",
    "\n",
    " Soluciones de AWS\n",
    "\n",
    "Amazon SageMaker es un servicio totalmente administrado que puede utilizar para preparar datos y crear, entrenar e implementar modelos de ML. SageMaker ofrece herramientas específicas como:\n",
    "- Experimentos de SageMaker para control de artefactos\n",
    "- Canalizaciones automatizadas\n",
    "- Registro de modelos para control de versiones\n",
    "\n",
    "Las MLOps representan una evolución natural del desarrollo de software tradicional, adaptada específicamente para los desafíos únicos del machine learning, proporcionando un marco estructurado para llevar modelos de ML desde el desarrollo hasta la producción de manera eficiente y confiable."
   ]
  },
  {
   "cell_type": "markdown",
   "id": "98eec3a9",
   "metadata": {},
   "source": []
  }
 ],
 "metadata": {
  "language_info": {
   "name": "python"
  }
 },
 "nbformat": 4,
 "nbformat_minor": 5
}

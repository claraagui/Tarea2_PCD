{
 "cells": [
  {
   "cell_type": "markdown",
   "id": "6a4b19fd",
   "metadata": {},
   "source": [
    "## TAREA 2\n",
    "\n",
    "### Clara Paola Aguilar Casillas\n",
    "### 751097"
   ]
  },
  {
   "cell_type": "markdown",
   "id": "32198ebb",
   "metadata": {},
   "source": [
    "- ¿Qué son las MLOps?\n",
    "liga: https://aws.amazon.com/es/what-is/mlops/\n",
    "\n",
    "Las operaciones de machine learning (MLOps) son un conjunto de prácticas que automatizan y simplifican los flujos de trabajo y los despliegues de machine learning (ML). MLOps es una cultura y una práctica de ML que une el desarrollo de aplicaciones de ML (Dev) a la implementación y las operaciones (Ops) de sistemas de ML.\n",
    "MLOps es fundamental para administrar de forma sistemática y simultánea el lanzamiento de nuevos modelos de ML con cambios en el código de la aplicación y los datos. Esto es especialmente importante porque el desarrollo de ML requiere experimentación constante, control de versiones de datos y modelos, y gestión compleja de canalizaciones de entrenamiento.\n",
    "\n",
    "~ Principios clave\n",
    " 1. Control de versiones: es un proceso implica el seguimiento de los cambios en los activos de machine learning para que pueda reproducir los resultados y volver a usar versiones anteriores si es necesario.\n",
    "\n",
    " 2. Automatiza diversas etapas de la canalización de machine learning para garantizar la repetibilidad, la coherencia y la escalabilidad, incluyendo desde la ingesta de datos hasta la implementación.\n",
    "\n",
    " 3. Actividades continuas\n",
    "Incluye cuatro aspectos principales:\n",
    "- Integración continua: validación del código, datos y modelos\n",
    "- Entrega continua: implementación automática de modelos\n",
    "- Entrenamiento continuo: reentrenamiento automático de modelos\n",
    "- Monitoreo continuo: seguimiento de datos y modelos\n",
    "\n",
    " 4. La gobernanza de modelos implica administrar todos los aspectos relacionados con los sistemas de ML para lograr una mayor eficiencia.\n",
    "\n",
    "~ Beneficios principales que aporta:\n",
    "1. Automatización a la hora de crear e implementar modelos se traduce en una comercialización más rápida con costos operativos más bajos\n",
    "\n",
    "2. Estandarización de entornos, procesos reutilizables y productividad mejorada.\n",
    "\n",
    "3. Mejor monitoreo, resolución de problemas y gestión de versiones\n",
    "\n",
    "~ Existen 3 niveles de implementación, que incluyen:\n",
    "Nivel 0: Manual, el cual es un proceso dirigido por cientificos de datos, en el cual cada paso es manual y hay una separación entre el desarrollo e implementación.\n",
    "\n",
    "Nivel 1: Automatización de canalizaciones, tiene como objetivo entrenar al modelo de forma continua por medio de la automatización de la canalización de ML, existe un entrenamiento continuo de datos y almacena catacterísticas centralizadas.\n",
    "\n",
    "Nivel 2: MLOps completo, es para que las organizaciones creen con frecuencia modelos nuevos que requieran entrenamiento continuo, , se encarga de que todas las etapas del flujo de trabajo se ejecuten en el orden correcto y de forma automatizada, con dependencias claras y de manera reproducible.\n",
    "\n",
    "- Diferencias entre las MLOps de las DevOps\n",
    "Mientras que las DevOps tienen como objetivo cerrar la brecha entre los equipos de desarrollo y operaciones, las MLOps, por otro lado, son un conjunto de prácticas recomendadas que se establecieron específicamente para proyectos de machine learning.\n",
    "\n",
    "Las soluciones que nos ofrece AWS son:\n",
    "- Experimentos de SageMaker para control de artefactos\n",
    "- Canalizaciones automatizadas\n",
    "- Registro de modelos para control de versiones\n",
    "\n",
    "Las MLOps representan una evolución natural del desarrollo de software tradicional, adaptada específicamente para los desafíos únicos del machine learning, proporcionando un marco estructurado para llevar modelos de ML desde el desarrollo hasta la producción de manera eficiente y confiable."
   ]
  },
  {
   "cell_type": "markdown",
   "id": "98eec3a9",
   "metadata": {},
   "source": []
  }
 ],
 "metadata": {
  "language_info": {
   "name": "python"
  }
 },
 "nbformat": 4,
 "nbformat_minor": 5
}
